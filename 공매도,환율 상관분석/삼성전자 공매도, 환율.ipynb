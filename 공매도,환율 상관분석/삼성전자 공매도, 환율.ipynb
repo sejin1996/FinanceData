{
 "cells": [
  {
   "cell_type": "code",
   "execution_count": 1,
   "id": "fc9d11ea",
   "metadata": {},
   "outputs": [],
   "source": [
    "import matplotlib.pyplot as plt\n",
    "%matplotlib inline\n",
    "from scipy.stats import *\n",
    "\n",
    "import pandas as pd\n",
    "import numpy as np\n",
    "import matplotlib.dates as mdates\n",
    "\n",
    "\n",
    "\n",
    "from IPython.core.interactiveshell import InteractiveShell\n",
    "InteractiveShell.ast_node_interactivity=\"all\""
   ]
  },
  {
   "cell_type": "code",
   "execution_count": 2,
   "id": "32c265bb",
   "metadata": {},
   "outputs": [],
   "source": [
    "# 한글 문제\n",
    "# matplotlit의 기본 폰트에서 한글 지원되지 않기 때문에\n",
    "# matplotlib의 폰트 변경 필요\n",
    "import platform\n",
    "\n",
    "from matplotlib import font_manager, rc\n",
    "plt.rcParams['axes.unicode_minus'] = False\n",
    "\n",
    "if platform.system() == 'Darwin':  # 맥OS \n",
    "    rc('font', family='AppleGothic')\n",
    "elif platform.system() == 'Windows':  # 윈도우\n",
    "    path = \"c:/Windows/Fonts/malgun.ttf\"\n",
    "    font_name = font_manager.FontProperties(fname=path).get_name()\n",
    "    rc('font', family=font_name)\n",
    "else:\n",
    "    print('Unknown system...  sorry~~~')"
   ]
  },
  {
   "cell_type": "code",
   "execution_count": 3,
   "id": "77bd3383",
   "metadata": {},
   "outputs": [],
   "source": [
    "df=pd.read_csv(\"./CSV/금리,환율_전처리.csv\",index_col='일자',encoding='euc-kr')"
   ]
  },
  {
   "cell_type": "code",
   "execution_count": 4,
   "id": "f5b59f8e",
   "metadata": {},
   "outputs": [],
   "source": [
    "df1=pd.read_csv(\"../삼성전자 공매도.csv\")"
   ]
  },
  {
   "cell_type": "code",
   "execution_count": 5,
   "id": "ae5ff54a",
   "metadata": {},
   "outputs": [],
   "source": [
    "df2=df1.drop(labels=range(0,258),axis=0)"
   ]
  },
  {
   "cell_type": "code",
   "execution_count": 6,
   "id": "4566631a",
   "metadata": {},
   "outputs": [
    {
     "name": "stdout",
     "output_type": "stream",
     "text": [
      "            공매도 수량(전체)  공매도 수량(잔고수량)    공매도 금액(전체)  공매도 금액(잔고금액)\n",
      "일자                                                              \n",
      "2020-03-13     3790257      10333836  1.840610e+11  5.161750e+11\n",
      "2020-03-12     1959497       9629815  9.909309e+10  4.891950e+11\n",
      "2020-03-11     3067990       9321255  1.624100e+11  4.856370e+11\n",
      "2020-03-10      754357       9117118  4.101148e+10  4.977950e+11\n",
      "2020-03-09     3159715       9165522  1.711350e+11  4.967710e+11\n",
      "...                ...           ...           ...           ...\n",
      "2016-07-06        2767         79864  3.967474e+09  1.134870e+11\n",
      "2016-07-05        5824         92203  8.549802e+09  1.354460e+11\n",
      "2016-07-04       20068         91154  2.937135e+10  1.336320e+11\n",
      "2016-07-01        5721        105182  8.403998e+09  1.541970e+11\n",
      "2016-06-30        7199         73661  1.020219e+10  1.049670e+11\n",
      "\n",
      "[909 rows x 4 columns]\n"
     ]
    }
   ],
   "source": [
    "df2.set_index('일자', inplace=True)\n",
    "print(df2)"
   ]
  },
  {
   "cell_type": "code",
   "execution_count": 7,
   "id": "596043c4",
   "metadata": {},
   "outputs": [
    {
     "data": {
      "text/html": [
       "<div>\n",
       "<style scoped>\n",
       "    .dataframe tbody tr th:only-of-type {\n",
       "        vertical-align: middle;\n",
       "    }\n",
       "\n",
       "    .dataframe tbody tr th {\n",
       "        vertical-align: top;\n",
       "    }\n",
       "\n",
       "    .dataframe thead th {\n",
       "        text-align: right;\n",
       "    }\n",
       "</style>\n",
       "<table border=\"1\" class=\"dataframe\">\n",
       "  <thead>\n",
       "    <tr style=\"text-align: right;\">\n",
       "      <th></th>\n",
       "      <th>금리</th>\n",
       "      <th>달러환율</th>\n",
       "      <th>공매도 수량(전체)</th>\n",
       "      <th>공매도 수량(잔고수량)</th>\n",
       "      <th>공매도 금액(전체)</th>\n",
       "      <th>공매도 금액(잔고금액)</th>\n",
       "    </tr>\n",
       "    <tr>\n",
       "      <th>일자</th>\n",
       "      <th></th>\n",
       "      <th></th>\n",
       "      <th></th>\n",
       "      <th></th>\n",
       "      <th></th>\n",
       "      <th></th>\n",
       "    </tr>\n",
       "  </thead>\n",
       "  <tbody>\n",
       "    <tr>\n",
       "      <th>2016-07-01</th>\n",
       "      <td>1.210</td>\n",
       "      <td>1152.6</td>\n",
       "      <td>5721</td>\n",
       "      <td>105182</td>\n",
       "      <td>8.403998e+09</td>\n",
       "      <td>1.541970e+11</td>\n",
       "    </tr>\n",
       "    <tr>\n",
       "      <th>2016-07-04</th>\n",
       "      <td>1.224</td>\n",
       "      <td>1147.5</td>\n",
       "      <td>20068</td>\n",
       "      <td>91154</td>\n",
       "      <td>2.937135e+10</td>\n",
       "      <td>1.336320e+11</td>\n",
       "    </tr>\n",
       "    <tr>\n",
       "      <th>2016-07-05</th>\n",
       "      <td>1.217</td>\n",
       "      <td>1148.1</td>\n",
       "      <td>5824</td>\n",
       "      <td>92203</td>\n",
       "      <td>8.549802e+09</td>\n",
       "      <td>1.354460e+11</td>\n",
       "    </tr>\n",
       "    <tr>\n",
       "      <th>2016-07-06</th>\n",
       "      <td>1.203</td>\n",
       "      <td>1153.0</td>\n",
       "      <td>2767</td>\n",
       "      <td>79864</td>\n",
       "      <td>3.967474e+09</td>\n",
       "      <td>1.134870e+11</td>\n",
       "    </tr>\n",
       "    <tr>\n",
       "      <th>2016-07-07</th>\n",
       "      <td>1.208</td>\n",
       "      <td>1165.8</td>\n",
       "      <td>4442</td>\n",
       "      <td>77400</td>\n",
       "      <td>6.364331e+09</td>\n",
       "      <td>1.122300e+11</td>\n",
       "    </tr>\n",
       "    <tr>\n",
       "      <th>...</th>\n",
       "      <td>...</td>\n",
       "      <td>...</td>\n",
       "      <td>...</td>\n",
       "      <td>...</td>\n",
       "      <td>...</td>\n",
       "      <td>...</td>\n",
       "    </tr>\n",
       "    <tr>\n",
       "      <th>2020-03-09</th>\n",
       "      <td>1.038</td>\n",
       "      <td>1191.4</td>\n",
       "      <td>3159715</td>\n",
       "      <td>9165522</td>\n",
       "      <td>1.711350e+11</td>\n",
       "      <td>4.967710e+11</td>\n",
       "    </tr>\n",
       "    <tr>\n",
       "      <th>2020-03-10</th>\n",
       "      <td>1.082</td>\n",
       "      <td>1201.4</td>\n",
       "      <td>754357</td>\n",
       "      <td>9117118</td>\n",
       "      <td>4.101148e+10</td>\n",
       "      <td>4.977950e+11</td>\n",
       "    </tr>\n",
       "    <tr>\n",
       "      <th>2020-03-11</th>\n",
       "      <td>1.086</td>\n",
       "      <td>1196.7</td>\n",
       "      <td>3067990</td>\n",
       "      <td>9321255</td>\n",
       "      <td>1.624100e+11</td>\n",
       "      <td>4.856370e+11</td>\n",
       "    </tr>\n",
       "    <tr>\n",
       "      <th>2020-03-12</th>\n",
       "      <td>1.062</td>\n",
       "      <td>1192.8</td>\n",
       "      <td>1959497</td>\n",
       "      <td>9629815</td>\n",
       "      <td>9.909309e+10</td>\n",
       "      <td>4.891950e+11</td>\n",
       "    </tr>\n",
       "    <tr>\n",
       "      <th>2020-03-13</th>\n",
       "      <td>1.149</td>\n",
       "      <td>1202.0</td>\n",
       "      <td>3790257</td>\n",
       "      <td>10333836</td>\n",
       "      <td>1.840610e+11</td>\n",
       "      <td>5.161750e+11</td>\n",
       "    </tr>\n",
       "  </tbody>\n",
       "</table>\n",
       "<p>908 rows × 6 columns</p>\n",
       "</div>"
      ],
      "text/plain": [
       "               금리    달러환율  공매도 수량(전체)  공매도 수량(잔고수량)    공매도 금액(전체)  \\\n",
       "일자                                                                  \n",
       "2016-07-01  1.210  1152.6        5721        105182  8.403998e+09   \n",
       "2016-07-04  1.224  1147.5       20068         91154  2.937135e+10   \n",
       "2016-07-05  1.217  1148.1        5824         92203  8.549802e+09   \n",
       "2016-07-06  1.203  1153.0        2767         79864  3.967474e+09   \n",
       "2016-07-07  1.208  1165.8        4442         77400  6.364331e+09   \n",
       "...           ...     ...         ...           ...           ...   \n",
       "2020-03-09  1.038  1191.4     3159715       9165522  1.711350e+11   \n",
       "2020-03-10  1.082  1201.4      754357       9117118  4.101148e+10   \n",
       "2020-03-11  1.086  1196.7     3067990       9321255  1.624100e+11   \n",
       "2020-03-12  1.062  1192.8     1959497       9629815  9.909309e+10   \n",
       "2020-03-13  1.149  1202.0     3790257      10333836  1.840610e+11   \n",
       "\n",
       "            공매도 금액(잔고금액)  \n",
       "일자                        \n",
       "2016-07-01  1.541970e+11  \n",
       "2016-07-04  1.336320e+11  \n",
       "2016-07-05  1.354460e+11  \n",
       "2016-07-06  1.134870e+11  \n",
       "2016-07-07  1.122300e+11  \n",
       "...                  ...  \n",
       "2020-03-09  4.967710e+11  \n",
       "2020-03-10  4.977950e+11  \n",
       "2020-03-11  4.856370e+11  \n",
       "2020-03-12  4.891950e+11  \n",
       "2020-03-13  5.161750e+11  \n",
       "\n",
       "[908 rows x 6 columns]"
      ]
     },
     "execution_count": 7,
     "metadata": {},
     "output_type": "execute_result"
    }
   ],
   "source": [
    "df3=pd.merge(df,df2,left_on=['일자'],right_index=True)\n",
    "df3"
   ]
  },
  {
   "cell_type": "code",
   "execution_count": 8,
   "id": "860fad32",
   "metadata": {},
   "outputs": [],
   "source": [
    "plt.rcParams[\"font.family\"] = 'Malgun Gothic'\n",
    "plt.rcParams[\"font.size\"] = 20\n",
    "plt.rcParams[\"figure.figsize\"] = (10, 6)"
   ]
  },
  {
   "cell_type": "code",
   "execution_count": 9,
   "id": "1198dfe8",
   "metadata": {},
   "outputs": [
    {
     "data": {
      "text/plain": [
       "<matplotlib.collections.PathCollection at 0x1a7e37377c0>"
      ]
     },
     "execution_count": 9,
     "metadata": {},
     "output_type": "execute_result"
    },
    {
     "data": {
      "image/png": "[encoded data removed]",
      "text/plain": [
       "<Figure size 720x432 with 1 Axes>"
      ]
     },
     "metadata": {
      "needs_background": "light"
     },
     "output_type": "display_data"
    }
   ],
   "source": [
    "plt.scatter(df3['공매도 금액(잔고금액)'],df3['달러환율'])"
   ]
  },
  {
   "cell_type": "code",
   "execution_count": 10,
   "id": "971ad1b7",
   "metadata": {},
   "outputs": [
    {
     "data": {
      "text/plain": [
       "(0.05301170133898639, 0.1104160939795408)"
      ]
     },
     "execution_count": 10,
     "metadata": {},
     "output_type": "execute_result"
    }
   ],
   "source": [
    "pearsonr(df3['공매도 금액(잔고금액)'],df3['달러환율'])"
   ]
  },
  {
   "cell_type": "code",
   "execution_count": null,
   "id": "f14d062d",
   "metadata": {},
   "outputs": [],
   "source": []
  }
 ],
 "metadata": {
  "kernelspec": {
   "display_name": "Python 3",
   "language": "python",
   "name": "python3"
  },
  "language_info": {
   "codemirror_mode": {
    "name": "ipython",
    "version": 3
   },
   "file_extension": ".py",
   "mimetype": "text/x-python",
   "name": "python",
   "nbconvert_exporter": "python",
   "pygments_lexer": "ipython3",
   "version": "3.8.8"
  }
 },
 "nbformat": 4,
 "nbformat_minor": 5
}
