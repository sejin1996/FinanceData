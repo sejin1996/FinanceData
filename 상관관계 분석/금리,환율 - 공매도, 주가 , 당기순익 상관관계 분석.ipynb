{
 "cells": [
  {
   "cell_type": "code",
   "execution_count": 1,
   "id": "c55a8676",
   "metadata": {},
   "outputs": [],
   "source": [
    "import pandas as pd\n",
    "import numpy as np\n",
    "from scipy.stats import *\n",
    "from matplotlib import pyplot as plt\n",
    "import itertools #스피어만 상관계수"
   ]
  },
  {
   "cell_type": "code",
   "execution_count": 2,
   "id": "e31d7f73",
   "metadata": {},
   "outputs": [],
   "source": [
    "from IPython.core.interactiveshell import InteractiveShell\n",
    "InteractiveShell.ast_node_interactivity=\"all\""
   ]
  },
  {
   "cell_type": "code",
   "execution_count": 20,
   "id": "ed6f1829",
   "metadata": {},
   "outputs": [
    {
     "data": {
      "text/html": [
       "<div>\n",
       "<style scoped>\n",
       "    .dataframe tbody tr th:only-of-type {\n",
       "        vertical-align: middle;\n",
       "    }\n",
       "\n",
       "    .dataframe tbody tr th {\n",
       "        vertical-align: top;\n",
       "    }\n",
       "\n",
       "    .dataframe thead th {\n",
       "        text-align: right;\n",
       "    }\n",
       "</style>\n",
       "<table border=\"1\" class=\"dataframe\">\n",
       "  <thead>\n",
       "    <tr style=\"text-align: right;\">\n",
       "      <th></th>\n",
       "      <th>date</th>\n",
       "      <th>open</th>\n",
       "      <th>high</th>\n",
       "      <th>low</th>\n",
       "      <th>close</th>\n",
       "      <th>volume</th>\n",
       "    </tr>\n",
       "  </thead>\n",
       "  <tbody>\n",
       "    <tr>\n",
       "      <th>0</th>\n",
       "      <td>20210813</td>\n",
       "      <td>53800</td>\n",
       "      <td>53800</td>\n",
       "      <td>52200</td>\n",
       "      <td>53200</td>\n",
       "      <td>1382277</td>\n",
       "    </tr>\n",
       "    <tr>\n",
       "      <th>1</th>\n",
       "      <td>20210812</td>\n",
       "      <td>54000</td>\n",
       "      <td>54000</td>\n",
       "      <td>53100</td>\n",
       "      <td>53400</td>\n",
       "      <td>1578901</td>\n",
       "    </tr>\n",
       "    <tr>\n",
       "      <th>2</th>\n",
       "      <td>20210811</td>\n",
       "      <td>52600</td>\n",
       "      <td>53600</td>\n",
       "      <td>52500</td>\n",
       "      <td>53600</td>\n",
       "      <td>1802909</td>\n",
       "    </tr>\n",
       "    <tr>\n",
       "      <th>3</th>\n",
       "      <td>20210810</td>\n",
       "      <td>53200</td>\n",
       "      <td>53200</td>\n",
       "      <td>52100</td>\n",
       "      <td>52300</td>\n",
       "      <td>1162055</td>\n",
       "    </tr>\n",
       "    <tr>\n",
       "      <th>4</th>\n",
       "      <td>20210809</td>\n",
       "      <td>52600</td>\n",
       "      <td>53200</td>\n",
       "      <td>52500</td>\n",
       "      <td>53000</td>\n",
       "      <td>1879902</td>\n",
       "    </tr>\n",
       "    <tr>\n",
       "      <th>...</th>\n",
       "      <td>...</td>\n",
       "      <td>...</td>\n",
       "      <td>...</td>\n",
       "      <td>...</td>\n",
       "      <td>...</td>\n",
       "      <td>...</td>\n",
       "    </tr>\n",
       "    <tr>\n",
       "      <th>3174</th>\n",
       "      <td>20081016</td>\n",
       "      <td>44618</td>\n",
       "      <td>44912</td>\n",
       "      <td>42419</td>\n",
       "      <td>42419</td>\n",
       "      <td>4032208</td>\n",
       "    </tr>\n",
       "    <tr>\n",
       "      <th>3175</th>\n",
       "      <td>20081015</td>\n",
       "      <td>49065</td>\n",
       "      <td>50141</td>\n",
       "      <td>48577</td>\n",
       "      <td>49847</td>\n",
       "      <td>2918014</td>\n",
       "    </tr>\n",
       "    <tr>\n",
       "      <th>3176</th>\n",
       "      <td>20081014</td>\n",
       "      <td>52780</td>\n",
       "      <td>54734</td>\n",
       "      <td>50629</td>\n",
       "      <td>51900</td>\n",
       "      <td>4049071</td>\n",
       "    </tr>\n",
       "    <tr>\n",
       "      <th>3177</th>\n",
       "      <td>20081013</td>\n",
       "      <td>47062</td>\n",
       "      <td>50336</td>\n",
       "      <td>45498</td>\n",
       "      <td>49554</td>\n",
       "      <td>3254127</td>\n",
       "    </tr>\n",
       "    <tr>\n",
       "      <th>3178</th>\n",
       "      <td>20081010</td>\n",
       "      <td>47062</td>\n",
       "      <td>47062</td>\n",
       "      <td>40025</td>\n",
       "      <td>45938</td>\n",
       "      <td>13312741</td>\n",
       "    </tr>\n",
       "  </tbody>\n",
       "</table>\n",
       "<p>3179 rows × 6 columns</p>\n",
       "</div>"
      ],
      "text/plain": [
       "          date   open   high    low  close    volume\n",
       "0     20210813  53800  53800  52200  53200   1382277\n",
       "1     20210812  54000  54000  53100  53400   1578901\n",
       "2     20210811  52600  53600  52500  53600   1802909\n",
       "3     20210810  53200  53200  52100  52300   1162055\n",
       "4     20210809  52600  53200  52500  53000   1879902\n",
       "...        ...    ...    ...    ...    ...       ...\n",
       "3174  20081016  44618  44912  42419  42419   4032208\n",
       "3175  20081015  49065  50141  48577  49847   2918014\n",
       "3176  20081014  52780  54734  50629  51900   4049071\n",
       "3177  20081013  47062  50336  45498  49554   3254127\n",
       "3178  20081010  47062  47062  40025  45938  13312741\n",
       "\n",
       "[3179 rows x 6 columns]"
      ]
     },
     "execution_count": 20,
     "metadata": {},
     "output_type": "execute_result"
    }
   ],
   "source": [
    "df1=pd.read_csv('../매출액,금리,환율/금리,환율_전처리.csv',encoding='euc-kr',index_col='일자')\n",
    "df2=pd.read_csv('../매출액,금리,환율/당기순익_merge.csv',encoding='euc-kr',index_col='결산년도')\n",
    "df3=pd.read_csv('../주가데이터/DATA_FILE/kb금융.csv')\n",
    "df3"
   ]
  },
  {
   "cell_type": "code",
   "execution_count": 4,
   "id": "cf8060b2",
   "metadata": {},
   "outputs": [
    {
     "data": {
      "text/plain": [
       "<Figure size 720x432 with 0 Axes>"
      ]
     },
     "execution_count": 4,
     "metadata": {},
     "output_type": "execute_result"
    },
    {
     "data": {
      "text/plain": [
       "<matplotlib.collections.PathCollection at 0x25542c2a6d0>"
      ]
     },
     "execution_count": 4,
     "metadata": {},
     "output_type": "execute_result"
    },
    {
     "data": {
      "image/png": "[encoded data removed]",
      "text/plain": [
       "<Figure size 720x432 with 1 Axes>"
      ]
     },
     "metadata": {
      "needs_background": "light"
     },
     "output_type": "display_data"
    }
   ],
   "source": [
    "plt.figure(figsize=(10,6))\n",
    "plt.scatter(df1['금리'],df1['달러환율'])"
   ]
  },
  {
   "cell_type": "code",
   "execution_count": 5,
   "id": "3b677014",
   "metadata": {},
   "outputs": [
    {
     "data": {
      "text/plain": [
       "(-0.602283516878658, 1.6158918521604554e-116)"
      ]
     },
     "execution_count": 5,
     "metadata": {},
     "output_type": "execute_result"
    }
   ],
   "source": [
    "pearsonr(df1['금리'],df1['달러환율']) # 금리와 달러환율의 피어슨상관계수= -0.6\n",
    "# p-value는 0에 수렴하므로 금리와 달려환율은 음의 상관관계를 갖는다"
   ]
  },
  {
   "cell_type": "code",
   "execution_count": 6,
   "id": "3304f0e4",
   "metadata": {},
   "outputs": [
    {
     "data": {
      "text/plain": [
       "SpearmanrResult(correlation=-0.5761107543441976, pvalue=1.6794323292634816e-104)"
      ]
     },
     "execution_count": 6,
     "metadata": {},
     "output_type": "execute_result"
    }
   ],
   "source": [
    "spearmanr(df1['금리'],df1['달러환율'])# 금리와 달러환율의 스피어만상관계수= -0.58\n",
    "# p-value는 0에 수렴하므로 금리와 달려환율은 음의 상관관계를 갖는다"
   ]
  },
  {
   "cell_type": "code",
   "execution_count": 19,
   "id": "05380c5d",
   "metadata": {
    "scrolled": true
   },
   "outputs": [
    {
     "name": "stdout",
     "output_type": "stream",
     "text": [
      "2016 년 1분기는 데이터가 없습니다\n",
      "2017 년 1분기 평균 금리 :  1.6735967741935485\n",
      "2018 년 1분기 평균 금리 :  1.1125203252032525\n",
      "2019 년 1분기 평균 금리 :  0.5833131868131869\n",
      "2020 년 1분기 평균 금리 :  0.31356147540983603\n",
      "2021 년 1분기 평균 금리 :  0.20504934210526327\n"
     ]
    }
   ],
   "source": [
    "total=0\n",
    "len1=0\n",
    "for i in range(2016,2022):\n",
    "    for n in range(len(df1.index)):\n",
    "        if df1.index[n][0:4]==str(i):\n",
    "            if df1.index[n][5:7] in ['01','02','03']:\n",
    "                total += df1['금리'][n]\n",
    "                len1 += 1\n",
    "    if len1!=0:\n",
    "        print(i,'년 1분기 평균 금리 : ',total/len1)\n",
    "    else:\n",
    "        print(i,'년 1분기는 데이터가 없습니다')\n",
    "    total=0"
   ]
  },
  {
   "cell_type": "code",
   "execution_count": 29,
   "id": "73905384",
   "metadata": {},
   "outputs": [
    {
     "data": {
      "text/plain": [
       "'07'"
      ]
     },
     "execution_count": 29,
     "metadata": {},
     "output_type": "execute_result"
    }
   ],
   "source": [
    "df1.index[0][5:7]"
   ]
  },
  {
   "cell_type": "code",
   "execution_count": 31,
   "id": "ab45f047",
   "metadata": {},
   "outputs": [
    {
     "data": {
      "text/plain": [
       "'2016'"
      ]
     },
     "execution_count": 31,
     "metadata": {},
     "output_type": "execute_result"
    }
   ],
   "source": [
    "df1.index[0][0:4]"
   ]
  },
  {
   "cell_type": "code",
   "execution_count": 42,
   "id": "1661a2e8",
   "metadata": {},
   "outputs": [
    {
     "ename": "TypeError",
     "evalue": "'int' object is not callable",
     "output_type": "error",
     "traceback": [
      "\u001b[1;31m---------------------------------------------------------------------------\u001b[0m",
      "\u001b[1;31mTypeError\u001b[0m                                 Traceback (most recent call last)",
      "\u001b[1;32m<ipython-input-42-c9b66ed5217e>\u001b[0m in \u001b[0;36m<module>\u001b[1;34m\u001b[0m\n\u001b[1;32m----> 1\u001b[1;33m \u001b[0mrange\u001b[0m\u001b[1;33m(\u001b[0m\u001b[0mlen\u001b[0m\u001b[1;33m(\u001b[0m\u001b[0mdf1\u001b[0m\u001b[1;33m.\u001b[0m\u001b[0mindex\u001b[0m\u001b[1;33m)\u001b[0m\u001b[1;33m)\u001b[0m\u001b[1;33m\u001b[0m\u001b[1;33m\u001b[0m\u001b[0m\n\u001b[0m",
      "\u001b[1;31mTypeError\u001b[0m: 'int' object is not callable"
     ]
    }
   ],
   "source": [
    "range(len(df1.index))"
   ]
  },
  {
   "cell_type": "code",
   "execution_count": null,
   "id": "32241d84",
   "metadata": {},
   "outputs": [],
   "source": []
  }
 ],
 "metadata": {
  "kernelspec": {
   "display_name": "Python 3",
   "language": "python",
   "name": "python3"
  },
  "language_info": {
   "codemirror_mode": {
    "name": "ipython",
    "version": 3
   },
   "file_extension": ".py",
   "mimetype": "text/x-python",
   "name": "python",
   "nbconvert_exporter": "python",
   "pygments_lexer": "ipython3",
   "version": "3.8.8"
  }
 },
 "nbformat": 4,
 "nbformat_minor": 5
}
