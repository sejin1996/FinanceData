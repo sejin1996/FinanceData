{
 "cells": [
  {
   "cell_type": "code",
   "execution_count": 1,
   "id": "18006f86",
   "metadata": {},
   "outputs": [],
   "source": [
    "import matplotlib.pyplot as plt\n",
    "%matplotlib inline\n",
    "\n",
    "\n",
    "import pandas as pd\n",
    "import numpy as np\n",
    "\n",
    "\n",
    "from IPython.core.interactiveshell import InteractiveShell\n",
    "InteractiveShell.ast_node_interactivity=\"all\""
   ]
  },
  {
   "cell_type": "code",
   "execution_count": 2,
   "id": "ffb0e3b7",
   "metadata": {},
   "outputs": [],
   "source": [
    "# 한글 문제\n",
    "# matplotlit의 기본 폰트에서 한글 지원되지 않기 때문에\n",
    "# matplotlib의 폰트 변경 필요\n",
    "import platform\n",
    "\n",
    "from matplotlib import font_manager, rc\n",
    "plt.rcParams['axes.unicode_minus'] = False\n",
    "\n",
    "if platform.system() == 'Darwin':  # 맥OS \n",
    "    rc('font', family='AppleGothic')\n",
    "elif platform.system() == 'Windows':  # 윈도우\n",
    "    path = \"c:/Windows/Fonts/malgun.ttf\"\n",
    "    font_name = font_manager.FontProperties(fname=path).get_name()\n",
    "    rc('font', family=font_name)\n",
    "else:\n",
    "    print('Unknown system...  sorry~~~')"
   ]
  },
  {
   "cell_type": "code",
   "execution_count": 3,
   "id": "b2e0f6dd",
   "metadata": {},
   "outputs": [],
   "source": [
    "df=pd.read_csv(\"금리,환율_전처리.csv\",index_col='일자',encoding='euc-kr')"
   ]
  },
  {
   "cell_type": "code",
   "execution_count": 4,
   "id": "1d0da029",
   "metadata": {},
   "outputs": [
    {
     "data": {
      "text/html": [
       "<div>\n",
       "<style scoped>\n",
       "    .dataframe tbody tr th:only-of-type {\n",
       "        vertical-align: middle;\n",
       "    }\n",
       "\n",
       "    .dataframe tbody tr th {\n",
       "        vertical-align: top;\n",
       "    }\n",
       "\n",
       "    .dataframe thead th {\n",
       "        text-align: right;\n",
       "    }\n",
       "</style>\n",
       "<table border=\"1\" class=\"dataframe\">\n",
       "  <thead>\n",
       "    <tr style=\"text-align: right;\">\n",
       "      <th></th>\n",
       "      <th>금리</th>\n",
       "      <th>달러환율</th>\n",
       "    </tr>\n",
       "    <tr>\n",
       "      <th>일자</th>\n",
       "      <th></th>\n",
       "      <th></th>\n",
       "    </tr>\n",
       "  </thead>\n",
       "  <tbody>\n",
       "    <tr>\n",
       "      <th>2016-07-01</th>\n",
       "      <td>1.210</td>\n",
       "      <td>1152.6</td>\n",
       "    </tr>\n",
       "    <tr>\n",
       "      <th>2016-07-04</th>\n",
       "      <td>1.224</td>\n",
       "      <td>1147.5</td>\n",
       "    </tr>\n",
       "    <tr>\n",
       "      <th>2016-07-05</th>\n",
       "      <td>1.217</td>\n",
       "      <td>1148.1</td>\n",
       "    </tr>\n",
       "    <tr>\n",
       "      <th>2016-07-06</th>\n",
       "      <td>1.203</td>\n",
       "      <td>1153.0</td>\n",
       "    </tr>\n",
       "    <tr>\n",
       "      <th>2016-07-07</th>\n",
       "      <td>1.208</td>\n",
       "      <td>1165.8</td>\n",
       "    </tr>\n",
       "  </tbody>\n",
       "</table>\n",
       "</div>"
      ],
      "text/plain": [
       "               금리    달러환율\n",
       "일자                       \n",
       "2016-07-01  1.210  1152.6\n",
       "2016-07-04  1.224  1147.5\n",
       "2016-07-05  1.217  1148.1\n",
       "2016-07-06  1.203  1153.0\n",
       "2016-07-07  1.208  1165.8"
      ]
     },
     "execution_count": 4,
     "metadata": {},
     "output_type": "execute_result"
    }
   ],
   "source": [
    "df.head()"
   ]
  },
  {
   "cell_type": "code",
   "execution_count": 5,
   "id": "ee554d30",
   "metadata": {},
   "outputs": [
    {
     "data": {
      "text/plain": [
       "(1171, 2)"
      ]
     },
     "execution_count": 5,
     "metadata": {},
     "output_type": "execute_result"
    }
   ],
   "source": [
    "df.shape"
   ]
  },
  {
   "cell_type": "code",
   "execution_count": 6,
   "id": "f485ebb7",
   "metadata": {},
   "outputs": [
    {
     "data": {
      "text/html": [
       "<div>\n",
       "<style scoped>\n",
       "    .dataframe tbody tr th:only-of-type {\n",
       "        vertical-align: middle;\n",
       "    }\n",
       "\n",
       "    .dataframe tbody tr th {\n",
       "        vertical-align: top;\n",
       "    }\n",
       "\n",
       "    .dataframe thead th {\n",
       "        text-align: right;\n",
       "    }\n",
       "</style>\n",
       "<table border=\"1\" class=\"dataframe\">\n",
       "  <thead>\n",
       "    <tr style=\"text-align: right;\">\n",
       "      <th></th>\n",
       "      <th>금리</th>\n",
       "      <th>달러환율</th>\n",
       "    </tr>\n",
       "  </thead>\n",
       "  <tbody>\n",
       "    <tr>\n",
       "      <th>count</th>\n",
       "      <td>1171.000000</td>\n",
       "      <td>1171.000000</td>\n",
       "    </tr>\n",
       "    <tr>\n",
       "      <th>mean</th>\n",
       "      <td>1.551944</td>\n",
       "      <td>1142.347822</td>\n",
       "    </tr>\n",
       "    <tr>\n",
       "      <th>std</th>\n",
       "      <td>0.436781</td>\n",
       "      <td>42.534172</td>\n",
       "    </tr>\n",
       "    <tr>\n",
       "      <th>min</th>\n",
       "      <td>0.795000</td>\n",
       "      <td>1057.600000</td>\n",
       "    </tr>\n",
       "    <tr>\n",
       "      <th>25%</th>\n",
       "      <td>1.204000</td>\n",
       "      <td>1117.000000</td>\n",
       "    </tr>\n",
       "    <tr>\n",
       "      <th>50%</th>\n",
       "      <td>1.654000</td>\n",
       "      <td>1133.400000</td>\n",
       "    </tr>\n",
       "    <tr>\n",
       "      <th>75%</th>\n",
       "      <td>1.835000</td>\n",
       "      <td>1177.650000</td>\n",
       "    </tr>\n",
       "    <tr>\n",
       "      <th>max</th>\n",
       "      <td>2.316000</td>\n",
       "      <td>1280.100000</td>\n",
       "    </tr>\n",
       "  </tbody>\n",
       "</table>\n",
       "</div>"
      ],
      "text/plain": [
       "                금리         달러환율\n",
       "count  1171.000000  1171.000000\n",
       "mean      1.551944  1142.347822\n",
       "std       0.436781    42.534172\n",
       "min       0.795000  1057.600000\n",
       "25%       1.204000  1117.000000\n",
       "50%       1.654000  1133.400000\n",
       "75%       1.835000  1177.650000\n",
       "max       2.316000  1280.100000"
      ]
     },
     "execution_count": 6,
     "metadata": {},
     "output_type": "execute_result"
    }
   ],
   "source": [
    "df.describe()"
   ]
  },
  {
   "cell_type": "code",
   "execution_count": 7,
   "id": "f41429ae",
   "metadata": {},
   "outputs": [
    {
     "data": {
      "text/plain": [
       "<bound method DataFrame.info of                금리    달러환율\n",
       "일자                       \n",
       "2016-07-01  1.210  1152.6\n",
       "2016-07-04  1.224  1147.5\n",
       "2016-07-05  1.217  1148.1\n",
       "2016-07-06  1.203  1153.0\n",
       "2016-07-07  1.208  1165.8\n",
       "...           ...     ...\n",
       "2021-03-25  1.089  1133.5\n",
       "2021-03-26  1.117  1134.2\n",
       "2021-03-29  1.119  1131.8\n",
       "2021-03-30  1.155  1131.7\n",
       "2021-03-31  1.133  1133.5\n",
       "\n",
       "[1171 rows x 2 columns]>"
      ]
     },
     "execution_count": 7,
     "metadata": {},
     "output_type": "execute_result"
    }
   ],
   "source": [
    "df.info"
   ]
  },
  {
   "cell_type": "code",
   "execution_count": 8,
   "id": "f10fb995",
   "metadata": {},
   "outputs": [],
   "source": [
    "df.index = pd.to_datetime(df.index)"
   ]
  },
  {
   "cell_type": "code",
   "execution_count": 9,
   "id": "bd6e6f06",
   "metadata": {
    "scrolled": false
   },
   "outputs": [
    {
     "data": {
      "text/plain": [
       "[<matplotlib.lines.Line2D at 0x22a56d27250>]"
      ]
     },
     "execution_count": 9,
     "metadata": {},
     "output_type": "execute_result"
    },
    {
     "data": {
      "text/plain": [
       "[<matplotlib.lines.Line2D at 0x22a56d64550>]"
      ]
     },
     "execution_count": 9,
     "metadata": {},
     "output_type": "execute_result"
    },
    {
     "data": {
      "text/plain": [
       "Text(0.5, 1.0, '금리')"
      ]
     },
     "execution_count": 9,
     "metadata": {},
     "output_type": "execute_result"
    },
    {
     "data": {
      "text/plain": [
       "Text(0, 0.5, 'rate')"
      ]
     },
     "execution_count": 9,
     "metadata": {},
     "output_type": "execute_result"
    },
    {
     "data": {
      "text/plain": [
       "Text(0.5, 0, 'Date')"
      ]
     },
     "execution_count": 9,
     "metadata": {},
     "output_type": "execute_result"
    },
    {
     "data": {
      "text/plain": [
       "Text(0.5, 1.0, ' 달러환율')"
      ]
     },
     "execution_count": 9,
     "metadata": {},
     "output_type": "execute_result"
    },
    {
     "data": {
      "text/plain": [
       "Text(0, 0.5, 'rate')"
      ]
     },
     "execution_count": 9,
     "metadata": {},
     "output_type": "execute_result"
    },
    {
     "data": {
      "text/plain": [
       "Text(0.5, 0, 'Date')"
      ]
     },
     "execution_count": 9,
     "metadata": {},
     "output_type": "execute_result"
    },
    {
     "data": {
      "text/plain": [
       "<matplotlib.legend.Legend at 0x22a56d88eb0>"
      ]
     },
     "execution_count": 9,
     "metadata": {},
     "output_type": "execute_result"
    },
    {
     "data": {
      "text/plain": [
       "<matplotlib.legend.Legend at 0x22a56d3e340>"
      ]
     },
     "execution_count": 9,
     "metadata": {},
     "output_type": "execute_result"
    },
    {
     "data": {
      "image/png": "[encoded data removed]",
      "text/plain": [
       "<Figure size 1440x576 with 2 Axes>"
      ]
     },
     "metadata": {
      "needs_background": "light"
     },
     "output_type": "display_data"
    }
   ],
   "source": [
    "fig = plt.figure(figsize=(20, 8)) # 차트 생성 및 사이즈 설정\n",
    "ax = fig.add_subplot(1,2,1) # subplot 생성\n",
    "bx = fig.add_subplot(1,2,2)\n",
    "\n",
    "ax.plot(df['금리'], label='금리', color='b')\n",
    "bx.plot(df['달러환율'], label='달러환율', color='r')\n",
    "\n",
    "ax.set_title('금리', fontsize=20) # 타이틀 설정\n",
    "ax.set_ylabel('rate', fontsize=14) # x축 설정\n",
    "ax.set_xlabel('Date', fontsize=14) # y축 설정\n",
    "\n",
    "bx.set_title(' 달러환율', fontsize=20) # 타이틀 설정\n",
    "bx.set_ylabel('rate', fontsize=14) # x축 설정\n",
    "bx.set_xlabel('Date', fontsize=14) # y축 설정\n",
    "\n",
    "ax.legend(fontsize=12, loc='best') # 범례 설정 best로 해놓으면 가장 적절한 위치에 알아서 범례가 놓이게 됩니디\n",
    "bx.legend(fontsize=12, loc='best') # 범례 설정 best로 해놓으면 가장 적절한 위치에 알아서 범례가 놓이게 됩니디\n",
    "\n",
    "plt.show()"
   ]
  },
  {
   "cell_type": "code",
   "execution_count": 66,
   "id": "acd72ac9",
   "metadata": {},
   "outputs": [],
   "source": [
    "fig.savefig('금리와 달러환율.png',bbox_inches='tight')"
   ]
  },
  {
   "cell_type": "code",
   "execution_count": 10,
   "id": "2dd41346",
   "metadata": {},
   "outputs": [],
   "source": [
    "df1=pd.read_csv(\"당기순익_merge.csv\",index_col='결산년도',encoding='euc-kr')"
   ]
  },
  {
   "cell_type": "code",
   "execution_count": 11,
   "id": "8ed5be4d",
   "metadata": {
    "scrolled": true
   },
   "outputs": [
    {
     "data": {
      "text/html": [
       "<div>\n",
       "<style scoped>\n",
       "    .dataframe tbody tr th:only-of-type {\n",
       "        vertical-align: middle;\n",
       "    }\n",
       "\n",
       "    .dataframe tbody tr th {\n",
       "        vertical-align: top;\n",
       "    }\n",
       "\n",
       "    .dataframe thead th {\n",
       "        text-align: right;\n",
       "    }\n",
       "</style>\n",
       "<table border=\"1\" class=\"dataframe\">\n",
       "  <thead>\n",
       "    <tr style=\"text-align: right;\">\n",
       "      <th></th>\n",
       "      <th>KB 금융</th>\n",
       "      <th>LG 생활건강</th>\n",
       "      <th>LG 화학</th>\n",
       "      <th>NAVER</th>\n",
       "      <th>SK 텔레콤</th>\n",
       "      <th>삼성물산</th>\n",
       "      <th>삼성바이오로직스</th>\n",
       "      <th>삼성전자</th>\n",
       "      <th>포스코 케미칼</th>\n",
       "      <th>한국전력</th>\n",
       "      <th>현대 모비스</th>\n",
       "      <th>현대차</th>\n",
       "    </tr>\n",
       "    <tr>\n",
       "      <th>결산년도</th>\n",
       "      <th></th>\n",
       "      <th></th>\n",
       "      <th></th>\n",
       "      <th></th>\n",
       "      <th></th>\n",
       "      <th></th>\n",
       "      <th></th>\n",
       "      <th></th>\n",
       "      <th></th>\n",
       "      <th></th>\n",
       "      <th></th>\n",
       "      <th></th>\n",
       "    </tr>\n",
       "  </thead>\n",
       "  <tbody>\n",
       "    <tr>\n",
       "      <th>16년09월(3Q)</th>\n",
       "      <td>5774.0</td>\n",
       "      <td>1921.0</td>\n",
       "      <td>2974.0</td>\n",
       "      <td>1980.0</td>\n",
       "      <td>3221.0</td>\n",
       "      <td>1446.0</td>\n",
       "      <td>NaN</td>\n",
       "      <td>45379.0</td>\n",
       "      <td>183.0</td>\n",
       "      <td>29382.0</td>\n",
       "      <td>7058.0</td>\n",
       "      <td>11188.0</td>\n",
       "    </tr>\n",
       "    <tr>\n",
       "      <th>16년12월(4Q)</th>\n",
       "      <td>4631.0</td>\n",
       "      <td>671.0</td>\n",
       "      <td>2700.0</td>\n",
       "      <td>1828.0</td>\n",
       "      <td>4747.0</td>\n",
       "      <td>2583.0</td>\n",
       "      <td>-570.0</td>\n",
       "      <td>70880.0</td>\n",
       "      <td>221.0</td>\n",
       "      <td>2795.0</td>\n",
       "      <td>6974.0</td>\n",
       "      <td>10688.0</td>\n",
       "    </tr>\n",
       "    <tr>\n",
       "      <th>17년03월(1Q)</th>\n",
       "      <td>8876.0</td>\n",
       "      <td>1805.0</td>\n",
       "      <td>5481.0</td>\n",
       "      <td>2109.0</td>\n",
       "      <td>5835.0</td>\n",
       "      <td>1876.0</td>\n",
       "      <td>-331.0</td>\n",
       "      <td>76844.0</td>\n",
       "      <td>230.0</td>\n",
       "      <td>9000.0</td>\n",
       "      <td>7619.0</td>\n",
       "      <td>14057.0</td>\n",
       "    </tr>\n",
       "    <tr>\n",
       "      <th>17년06월(2Q)</th>\n",
       "      <td>10047.0</td>\n",
       "      <td>1682.0</td>\n",
       "      <td>5903.0</td>\n",
       "      <td>1714.0</td>\n",
       "      <td>6205.0</td>\n",
       "      <td>1097.0</td>\n",
       "      <td>-221.0</td>\n",
       "      <td>110539.0</td>\n",
       "      <td>176.0</td>\n",
       "      <td>3589.0</td>\n",
       "      <td>4822.0</td>\n",
       "      <td>9136.0</td>\n",
       "    </tr>\n",
       "    <tr>\n",
       "      <th>17년09월(3Q)</th>\n",
       "      <td>8974.0</td>\n",
       "      <td>1876.0</td>\n",
       "      <td>5455.0</td>\n",
       "      <td>2158.0</td>\n",
       "      <td>7930.0</td>\n",
       "      <td>1314.0</td>\n",
       "      <td>-317.0</td>\n",
       "      <td>111934.0</td>\n",
       "      <td>303.0</td>\n",
       "      <td>15292.0</td>\n",
       "      <td>4822.0</td>\n",
       "      <td>9392.0</td>\n",
       "    </tr>\n",
       "  </tbody>\n",
       "</table>\n",
       "</div>"
      ],
      "text/plain": [
       "              KB 금융  LG 생활건강   LG 화학   NAVER  SK 텔레콤    삼성물산  삼성바이오로직스  \\\n",
       "결산년도                                                                     \n",
       "16년09월(3Q)   5774.0   1921.0  2974.0  1980.0  3221.0  1446.0       NaN   \n",
       "16년12월(4Q)   4631.0    671.0  2700.0  1828.0  4747.0  2583.0    -570.0   \n",
       "17년03월(1Q)   8876.0   1805.0  5481.0  2109.0  5835.0  1876.0    -331.0   \n",
       "17년06월(2Q)  10047.0   1682.0  5903.0  1714.0  6205.0  1097.0    -221.0   \n",
       "17년09월(3Q)   8974.0   1876.0  5455.0  2158.0  7930.0  1314.0    -317.0   \n",
       "\n",
       "                삼성전자  포스코 케미칼     한국전력  현대 모비스      현대차  \n",
       "결산년도                                                     \n",
       "16년09월(3Q)   45379.0    183.0  29382.0  7058.0  11188.0  \n",
       "16년12월(4Q)   70880.0    221.0   2795.0  6974.0  10688.0  \n",
       "17년03월(1Q)   76844.0    230.0   9000.0  7619.0  14057.0  \n",
       "17년06월(2Q)  110539.0    176.0   3589.0  4822.0   9136.0  \n",
       "17년09월(3Q)  111934.0    303.0  15292.0  4822.0   9392.0  "
      ]
     },
     "execution_count": 11,
     "metadata": {},
     "output_type": "execute_result"
    }
   ],
   "source": [
    "df1.head()"
   ]
  },
  {
   "cell_type": "code",
   "execution_count": null,
   "id": "f283f44f",
   "metadata": {},
   "outputs": [],
   "source": []
  },
  {
   "cell_type": "code",
   "execution_count": 12,
   "id": "ac1d0bcd",
   "metadata": {},
   "outputs": [
    {
     "data": {
      "text/plain": [
       "<bound method DataFrame.info of               KB 금융  LG 생활건강    LG 화학     NAVER   SK 텔레콤    삼성물산  삼성바이오로직스  \\\n",
       "결산년도                                                                         \n",
       "16년09월(3Q)   5774.0   1921.0   2974.0    1980.0   3221.0  1446.0       NaN   \n",
       "16년12월(4Q)   4631.0    671.0   2700.0    1828.0   4747.0  2583.0    -570.0   \n",
       "17년03월(1Q)   8876.0   1805.0   5481.0    2109.0   5835.0  1876.0    -331.0   \n",
       "17년06월(2Q)  10047.0   1682.0   5903.0    1714.0   6205.0  1097.0    -221.0   \n",
       "17년09월(3Q)   8974.0   1876.0   5455.0    2158.0   7930.0  1314.0    -317.0   \n",
       "17년12월(4Q)   5537.0    820.0   3381.0    1720.0   6606.0   524.0    -101.0   \n",
       "18년03월(1Q)   9684.0   1964.0   5527.0    1538.0   6934.0  3759.0    -467.0   \n",
       "18년06월(2Q)   9468.0   1874.0   4934.0    2818.0   9143.0  3321.0    -195.0   \n",
       "18년09월(3Q)   9540.0   2072.0   3466.0     684.0  10498.0  2357.0    -270.0   \n",
       "18년12월(4Q)   1928.0   1013.0   1266.0    1240.0   4745.0  8046.0    3173.0   \n",
       "19년03월(1Q)   8459.0   2258.0   2119.0     876.0   3736.0  2224.0    -368.0   \n",
       "19년06월(2Q)   9915.0   2115.0    838.0     278.0   2591.0  2074.0    -124.0   \n",
       "19년09월(3Q)   9407.0   2171.0   1372.0     853.0   2744.0  2650.0     214.0   \n",
       "19년12월(4Q)   5351.0   1338.0   -568.0    1962.0   -464.0  3531.0     776.0   \n",
       "20년03월(1Q)   7389.0   2342.0    363.0    1349.0   3060.0  3466.0     367.0   \n",
       "20년06월(2Q)   9925.0   2046.0   4191.0     907.0   4322.0  2207.0     520.0   \n",
       "20년09월(3Q)  11942.0   2317.0   5704.0    2353.0   3957.0  3234.0     561.0   \n",
       "20년12월(4Q)   5766.0   1426.0  -3434.0    3841.0   3668.0  2699.0     962.0   \n",
       "21년03월(1Q)  12852.0   2588.0  13710.0  153145.0   5720.0  8867.0     610.0   \n",
       "\n",
       "                삼성전자  포스코 케미칼     한국전력  현대 모비스      현대차  \n",
       "결산년도                                                     \n",
       "16년09월(3Q)   45379.0    183.0  29382.0  7058.0  11188.0  \n",
       "16년12월(4Q)   70880.0    221.0   2795.0  6974.0  10688.0  \n",
       "17년03월(1Q)   76844.0    230.0   9000.0  7619.0  14057.0  \n",
       "17년06월(2Q)  110539.0    176.0   3589.0  4822.0   9136.0  \n",
       "17년09월(3Q)  111934.0    303.0  15292.0  4822.0   9392.0  \n",
       "17년12월(4Q)  122551.0    330.0 -13468.0 -1686.0  12879.0  \n",
       "18년03월(1Q)  116885.0    315.0  -2505.0  4659.0   7316.0  \n",
       "18년06월(2Q)  110434.0    321.0  -9186.0  5529.0   8107.0  \n",
       "18년09월(3Q)  131507.0    372.0   7373.0  4496.0   3060.0  \n",
       "18년12월(4Q)   84622.0    320.0  -7427.0  4198.0  -2033.0  \n",
       "19년03월(1Q)   50436.0    329.0  -7612.0  4858.0   9538.0  \n",
       "19년06월(2Q)   51806.0    234.0  -4122.0  6446.0   9993.0  \n",
       "19년09월(3Q)   62877.0    300.0   2411.0  5819.0   4605.0  \n",
       "19년12월(4Q)   52270.0    149.0 -13313.0  5821.0   7721.0  \n",
       "20년03월(1Q)   48849.0    142.0    536.0  3488.0   5527.0  \n",
       "20년06월(2Q)   55551.0    -72.0   2029.0  2347.0   3773.0  \n",
       "20년09월(3Q)   93607.0     69.0  12513.0  3913.0  -1888.0  \n",
       "20년12월(4Q)   66071.0    158.0   5847.0  5520.0  11834.0  \n",
       "21년03월(1Q)   71417.0    398.0   1184.0  6033.0  15222.0  >"
      ]
     },
     "execution_count": 12,
     "metadata": {},
     "output_type": "execute_result"
    }
   ],
   "source": [
    "df1.info"
   ]
  },
  {
   "cell_type": "code",
   "execution_count": 13,
   "id": "3b4869bf",
   "metadata": {
    "scrolled": true
   },
   "outputs": [
    {
     "data": {
      "text/html": [
       "<div>\n",
       "<style scoped>\n",
       "    .dataframe tbody tr th:only-of-type {\n",
       "        vertical-align: middle;\n",
       "    }\n",
       "\n",
       "    .dataframe tbody tr th {\n",
       "        vertical-align: top;\n",
       "    }\n",
       "\n",
       "    .dataframe thead th {\n",
       "        text-align: right;\n",
       "    }\n",
       "</style>\n",
       "<table border=\"1\" class=\"dataframe\">\n",
       "  <thead>\n",
       "    <tr style=\"text-align: right;\">\n",
       "      <th></th>\n",
       "      <th>KB 금융</th>\n",
       "      <th>LG 생활건강</th>\n",
       "      <th>LG 화학</th>\n",
       "      <th>NAVER</th>\n",
       "      <th>SK 텔레콤</th>\n",
       "      <th>삼성물산</th>\n",
       "      <th>삼성바이오로직스</th>\n",
       "      <th>삼성전자</th>\n",
       "      <th>포스코 케미칼</th>\n",
       "      <th>한국전력</th>\n",
       "      <th>현대 모비스</th>\n",
       "      <th>현대차</th>\n",
       "    </tr>\n",
       "  </thead>\n",
       "  <tbody>\n",
       "    <tr>\n",
       "      <th>count</th>\n",
       "      <td>19.000000</td>\n",
       "      <td>19.000000</td>\n",
       "      <td>19.000000</td>\n",
       "      <td>19.000000</td>\n",
       "      <td>19.000000</td>\n",
       "      <td>19.000000</td>\n",
       "      <td>18.000000</td>\n",
       "      <td>19.000000</td>\n",
       "      <td>19.000000</td>\n",
       "      <td>19.000000</td>\n",
       "      <td>19.000000</td>\n",
       "      <td>19.000000</td>\n",
       "    </tr>\n",
       "    <tr>\n",
       "      <th>mean</th>\n",
       "      <td>8182.368421</td>\n",
       "      <td>1805.210526</td>\n",
       "      <td>3441.157895</td>\n",
       "      <td>9650.157895</td>\n",
       "      <td>5010.421053</td>\n",
       "      <td>3014.473684</td>\n",
       "      <td>234.388889</td>\n",
       "      <td>80761.000000</td>\n",
       "      <td>235.684211</td>\n",
       "      <td>1806.210526</td>\n",
       "      <td>4880.842105</td>\n",
       "      <td>7900.789474</td>\n",
       "    </tr>\n",
       "    <tr>\n",
       "      <th>std</th>\n",
       "      <td>2717.263231</td>\n",
       "      <td>528.996910</td>\n",
       "      <td>3520.681583</td>\n",
       "      <td>34758.639794</td>\n",
       "      <td>2556.990121</td>\n",
       "      <td>2111.800611</td>\n",
       "      <td>868.337637</td>\n",
       "      <td>28632.600507</td>\n",
       "      <td>116.248323</td>\n",
       "      <td>10469.457147</td>\n",
       "      <td>2055.888920</td>\n",
       "      <td>4790.150318</td>\n",
       "    </tr>\n",
       "    <tr>\n",
       "      <th>min</th>\n",
       "      <td>1928.000000</td>\n",
       "      <td>671.000000</td>\n",
       "      <td>-3434.000000</td>\n",
       "      <td>278.000000</td>\n",
       "      <td>-464.000000</td>\n",
       "      <td>524.000000</td>\n",
       "      <td>-570.000000</td>\n",
       "      <td>45379.000000</td>\n",
       "      <td>-72.000000</td>\n",
       "      <td>-13468.000000</td>\n",
       "      <td>-1686.000000</td>\n",
       "      <td>-2033.000000</td>\n",
       "    </tr>\n",
       "    <tr>\n",
       "      <th>25%</th>\n",
       "      <td>5770.000000</td>\n",
       "      <td>1554.000000</td>\n",
       "      <td>1319.000000</td>\n",
       "      <td>1073.500000</td>\n",
       "      <td>3444.500000</td>\n",
       "      <td>1975.000000</td>\n",
       "      <td>-305.250000</td>\n",
       "      <td>53910.500000</td>\n",
       "      <td>167.000000</td>\n",
       "      <td>-5774.500000</td>\n",
       "      <td>4347.000000</td>\n",
       "      <td>5066.000000</td>\n",
       "    </tr>\n",
       "    <tr>\n",
       "      <th>50%</th>\n",
       "      <td>8974.000000</td>\n",
       "      <td>1921.000000</td>\n",
       "      <td>3381.000000</td>\n",
       "      <td>1720.000000</td>\n",
       "      <td>4745.000000</td>\n",
       "      <td>2583.000000</td>\n",
       "      <td>-112.500000</td>\n",
       "      <td>71417.000000</td>\n",
       "      <td>234.000000</td>\n",
       "      <td>2029.000000</td>\n",
       "      <td>4858.000000</td>\n",
       "      <td>9136.000000</td>\n",
       "    </tr>\n",
       "    <tr>\n",
       "      <th>75%</th>\n",
       "      <td>9799.500000</td>\n",
       "      <td>2143.000000</td>\n",
       "      <td>5468.000000</td>\n",
       "      <td>2133.500000</td>\n",
       "      <td>6405.500000</td>\n",
       "      <td>3393.500000</td>\n",
       "      <td>550.750000</td>\n",
       "      <td>110486.500000</td>\n",
       "      <td>320.500000</td>\n",
       "      <td>6610.000000</td>\n",
       "      <td>5927.000000</td>\n",
       "      <td>10938.000000</td>\n",
       "    </tr>\n",
       "    <tr>\n",
       "      <th>max</th>\n",
       "      <td>12852.000000</td>\n",
       "      <td>2588.000000</td>\n",
       "      <td>13710.000000</td>\n",
       "      <td>153145.000000</td>\n",
       "      <td>10498.000000</td>\n",
       "      <td>8867.000000</td>\n",
       "      <td>3173.000000</td>\n",
       "      <td>131507.000000</td>\n",
       "      <td>398.000000</td>\n",
       "      <td>29382.000000</td>\n",
       "      <td>7619.000000</td>\n",
       "      <td>15222.000000</td>\n",
       "    </tr>\n",
       "  </tbody>\n",
       "</table>\n",
       "</div>"
      ],
      "text/plain": [
       "              KB 금융      LG 생활건강         LG 화학          NAVER        SK 텔레콤  \\\n",
       "count     19.000000    19.000000     19.000000      19.000000     19.000000   \n",
       "mean    8182.368421  1805.210526   3441.157895    9650.157895   5010.421053   \n",
       "std     2717.263231   528.996910   3520.681583   34758.639794   2556.990121   \n",
       "min     1928.000000   671.000000  -3434.000000     278.000000   -464.000000   \n",
       "25%     5770.000000  1554.000000   1319.000000    1073.500000   3444.500000   \n",
       "50%     8974.000000  1921.000000   3381.000000    1720.000000   4745.000000   \n",
       "75%     9799.500000  2143.000000   5468.000000    2133.500000   6405.500000   \n",
       "max    12852.000000  2588.000000  13710.000000  153145.000000  10498.000000   \n",
       "\n",
       "              삼성물산     삼성바이오로직스           삼성전자     포스코 케미칼          한국전력  \\\n",
       "count    19.000000    18.000000      19.000000   19.000000     19.000000   \n",
       "mean   3014.473684   234.388889   80761.000000  235.684211   1806.210526   \n",
       "std    2111.800611   868.337637   28632.600507  116.248323  10469.457147   \n",
       "min     524.000000  -570.000000   45379.000000  -72.000000 -13468.000000   \n",
       "25%    1975.000000  -305.250000   53910.500000  167.000000  -5774.500000   \n",
       "50%    2583.000000  -112.500000   71417.000000  234.000000   2029.000000   \n",
       "75%    3393.500000   550.750000  110486.500000  320.500000   6610.000000   \n",
       "max    8867.000000  3173.000000  131507.000000  398.000000  29382.000000   \n",
       "\n",
       "            현대 모비스           현대차  \n",
       "count    19.000000     19.000000  \n",
       "mean   4880.842105   7900.789474  \n",
       "std    2055.888920   4790.150318  \n",
       "min   -1686.000000  -2033.000000  \n",
       "25%    4347.000000   5066.000000  \n",
       "50%    4858.000000   9136.000000  \n",
       "75%    5927.000000  10938.000000  \n",
       "max    7619.000000  15222.000000  "
      ]
     },
     "execution_count": 13,
     "metadata": {},
     "output_type": "execute_result"
    }
   ],
   "source": [
    "df1.describe()"
   ]
  },
  {
   "cell_type": "code",
   "execution_count": 14,
   "id": "cb989cc9",
   "metadata": {
    "scrolled": true
   },
   "outputs": [
    {
     "data": {
      "text/plain": [
       "<BarContainer object of 19 artists>"
      ]
     },
     "execution_count": 14,
     "metadata": {},
     "output_type": "execute_result"
    },
    {
     "data": {
      "text/plain": [
       "<BarContainer object of 19 artists>"
      ]
     },
     "execution_count": 14,
     "metadata": {},
     "output_type": "execute_result"
    },
    {
     "data": {
      "text/plain": [
       "Text(0.5, 1.0, '공매도 수량과 잔고수량')"
      ]
     },
     "execution_count": 14,
     "metadata": {},
     "output_type": "execute_result"
    },
    {
     "data": {
      "text/plain": [
       "Text(0, 0.5, 'Account')"
      ]
     },
     "execution_count": 14,
     "metadata": {},
     "output_type": "execute_result"
    },
    {
     "data": {
      "text/plain": [
       "Text(0.5, 0, 'Date')"
      ]
     },
     "execution_count": 14,
     "metadata": {},
     "output_type": "execute_result"
    },
    {
     "data": {
      "text/plain": [
       "<matplotlib.legend.Legend at 0x22a69e28760>"
      ]
     },
     "execution_count": 14,
     "metadata": {},
     "output_type": "execute_result"
    },
    {
     "data": {
      "image/png": "[encoded data removed]",
      "text/plain": [
       "<Figure size 1440x864 with 12 Axes>"
      ]
     },
     "metadata": {
      "needs_background": "light"
     },
     "output_type": "display_data"
    }
   ],
   "source": [
    "do = plt.figure(figsize=(20, 12)) # 차트 생성 및 사이즈 설정\n",
    "do1 = do.add_subplot(3,4,1) # subplot 생성\n",
    "do2 = do.add_subplot(3,4,2) # subplot 생성\n",
    "do3 = do.add_subplot(3,4,3) # subplot 생성\n",
    "do4 = do.add_subplot(3,4,4) # subplot 생성\n",
    "do5 = do.add_subplot(3,4,5) # subplot 생성\n",
    "do6 = do.add_subplot(3,4,6) # subplot 생성\n",
    "do7 = do.add_subplot(3,4,7) # subplot 생성\n",
    "do8 = do.add_subplot(3,4,8) # subplot 생성\n",
    "do9 = do.add_subplot(3,4,9) # subplot 생성\n",
    "do10 = do.add_subplot(3,4,10) # subplot 생성\n",
    "do11 = do.add_subplot(3,4,11) # subplot 생성\n",
    "do12 = do.add_subplot(3,4,12) # subplot 생성\n",
    "\n",
    "do1.bar(df1.index,df1['KB 금융'], label='수량(전체)', color='#'+str(12)*3)\n",
    "do2.bar(df1.index,df1['LG 생활건강'], label='잔고수량', color='r')\n",
    "\n",
    "do1.set_title('공매도 수량과 잔고수량', fontsize=20) # 타이틀 설정\n",
    "do1.set_ylabel('Account', fontsize=14) # x축 설정\n",
    "do1.set_xlabel('Date', fontsize=14) # y축 설정\n",
    "\n",
    "do1.legend(fontsize=12, loc='best') # 범례 설정 best로 해놓으면 가장 적절한 위치에 알아서 범례가 놓이게 됩니디\n",
    "\n",
    "plt.show()"
   ]
  },
  {
   "cell_type": "code",
   "execution_count": 14,
   "id": "5fed8536",
   "metadata": {
    "scrolled": true
   },
   "outputs": [
    {
     "data": {
      "text/plain": [
       "<BarContainer object of 19 artists>"
      ]
     },
     "execution_count": 14,
     "metadata": {},
     "output_type": "execute_result"
    },
    {
     "data": {
      "text/plain": [
       "Text(0.5, 1.0, 'KB 금융')"
      ]
     },
     "execution_count": 14,
     "metadata": {},
     "output_type": "execute_result"
    },
    {
     "data": {
      "text/plain": [
       "Text(0, 0.5, '순이익')"
      ]
     },
     "execution_count": 14,
     "metadata": {},
     "output_type": "execute_result"
    },
    {
     "data": {
      "text/plain": [
       "Text(0.5, 0, '분기')"
      ]
     },
     "execution_count": 14,
     "metadata": {},
     "output_type": "execute_result"
    },
    {
     "data": {
      "text/plain": [
       "<BarContainer object of 19 artists>"
      ]
     },
     "execution_count": 14,
     "metadata": {},
     "output_type": "execute_result"
    },
    {
     "data": {
      "text/plain": [
       "Text(0.5, 1.0, 'LG 생활건강')"
      ]
     },
     "execution_count": 14,
     "metadata": {},
     "output_type": "execute_result"
    },
    {
     "data": {
      "text/plain": [
       "Text(0, 0.5, '순이익')"
      ]
     },
     "execution_count": 14,
     "metadata": {},
     "output_type": "execute_result"
    },
    {
     "data": {
      "text/plain": [
       "Text(0.5, 0, '분기')"
      ]
     },
     "execution_count": 14,
     "metadata": {},
     "output_type": "execute_result"
    },
    {
     "data": {
      "text/plain": [
       "<BarContainer object of 19 artists>"
      ]
     },
     "execution_count": 14,
     "metadata": {},
     "output_type": "execute_result"
    },
    {
     "data": {
      "text/plain": [
       "Text(0.5, 1.0, 'LG 화학')"
      ]
     },
     "execution_count": 14,
     "metadata": {},
     "output_type": "execute_result"
    },
    {
     "data": {
      "text/plain": [
       "Text(0, 0.5, '순이익')"
      ]
     },
     "execution_count": 14,
     "metadata": {},
     "output_type": "execute_result"
    },
    {
     "data": {
      "text/plain": [
       "Text(0.5, 0, '분기')"
      ]
     },
     "execution_count": 14,
     "metadata": {},
     "output_type": "execute_result"
    },
    {
     "data": {
      "text/plain": [
       "<BarContainer object of 19 artists>"
      ]
     },
     "execution_count": 14,
     "metadata": {},
     "output_type": "execute_result"
    },
    {
     "data": {
      "text/plain": [
       "Text(0.5, 1.0, 'NAVER')"
      ]
     },
     "execution_count": 14,
     "metadata": {},
     "output_type": "execute_result"
    },
    {
     "data": {
      "text/plain": [
       "Text(0, 0.5, '순이익')"
      ]
     },
     "execution_count": 14,
     "metadata": {},
     "output_type": "execute_result"
    },
    {
     "data": {
      "text/plain": [
       "Text(0.5, 0, '분기')"
      ]
     },
     "execution_count": 14,
     "metadata": {},
     "output_type": "execute_result"
    },
    {
     "data": {
      "text/plain": [
       "(0.0, 6000.0)"
      ]
     },
     "execution_count": 14,
     "metadata": {},
     "output_type": "execute_result"
    },
    {
     "data": {
      "text/plain": [
       "<BarContainer object of 19 artists>"
      ]
     },
     "execution_count": 14,
     "metadata": {},
     "output_type": "execute_result"
    },
    {
     "data": {
      "text/plain": [
       "Text(0.5, 1.0, 'SK 텔레콤')"
      ]
     },
     "execution_count": 14,
     "metadata": {},
     "output_type": "execute_result"
    },
    {
     "data": {
      "text/plain": [
       "Text(0, 0.5, '순이익')"
      ]
     },
     "execution_count": 14,
     "metadata": {},
     "output_type": "execute_result"
    },
    {
     "data": {
      "text/plain": [
       "Text(0.5, 0, '분기')"
      ]
     },
     "execution_count": 14,
     "metadata": {},
     "output_type": "execute_result"
    },
    {
     "data": {
      "text/plain": [
       "<BarContainer object of 19 artists>"
      ]
     },
     "execution_count": 14,
     "metadata": {},
     "output_type": "execute_result"
    },
    {
     "data": {
      "text/plain": [
       "Text(0.5, 1.0, '삼성물산')"
      ]
     },
     "execution_count": 14,
     "metadata": {},
     "output_type": "execute_result"
    },
    {
     "data": {
      "text/plain": [
       "Text(0, 0.5, '순이익')"
      ]
     },
     "execution_count": 14,
     "metadata": {},
     "output_type": "execute_result"
    },
    {
     "data": {
      "text/plain": [
       "Text(0.5, 0, '분기')"
      ]
     },
     "execution_count": 14,
     "metadata": {},
     "output_type": "execute_result"
    },
    {
     "data": {
      "text/plain": [
       "<BarContainer object of 19 artists>"
      ]
     },
     "execution_count": 14,
     "metadata": {},
     "output_type": "execute_result"
    },
    {
     "data": {
      "text/plain": [
       "Text(0.5, 1.0, '삼성바이오로직스')"
      ]
     },
     "execution_count": 14,
     "metadata": {},
     "output_type": "execute_result"
    },
    {
     "data": {
      "text/plain": [
       "Text(0, 0.5, '순이익')"
      ]
     },
     "execution_count": 14,
     "metadata": {},
     "output_type": "execute_result"
    },
    {
     "data": {
      "text/plain": [
       "Text(0.5, 0, '분기')"
      ]
     },
     "execution_count": 14,
     "metadata": {},
     "output_type": "execute_result"
    },
    {
     "data": {
      "text/plain": [
       "<BarContainer object of 19 artists>"
      ]
     },
     "execution_count": 14,
     "metadata": {},
     "output_type": "execute_result"
    },
    {
     "data": {
      "text/plain": [
       "Text(0.5, 1.0, '삼성전자')"
      ]
     },
     "execution_count": 14,
     "metadata": {},
     "output_type": "execute_result"
    },
    {
     "data": {
      "text/plain": [
       "Text(0, 0.5, '순이익')"
      ]
     },
     "execution_count": 14,
     "metadata": {},
     "output_type": "execute_result"
    },
    {
     "data": {
      "text/plain": [
       "Text(0.5, 0, '분기')"
      ]
     },
     "execution_count": 14,
     "metadata": {},
     "output_type": "execute_result"
    },
    {
     "data": {
      "text/plain": [
       "<BarContainer object of 19 artists>"
      ]
     },
     "execution_count": 14,
     "metadata": {},
     "output_type": "execute_result"
    },
    {
     "data": {
      "text/plain": [
       "Text(0.5, 1.0, '포스코 케미칼')"
      ]
     },
     "execution_count": 14,
     "metadata": {},
     "output_type": "execute_result"
    },
    {
     "data": {
      "text/plain": [
       "Text(0, 0.5, '순이익')"
      ]
     },
     "execution_count": 14,
     "metadata": {},
     "output_type": "execute_result"
    },
    {
     "data": {
      "text/plain": [
       "Text(0.5, 0, '분기')"
      ]
     },
     "execution_count": 14,
     "metadata": {},
     "output_type": "execute_result"
    },
    {
     "data": {
      "text/plain": [
       "<BarContainer object of 19 artists>"
      ]
     },
     "execution_count": 14,
     "metadata": {},
     "output_type": "execute_result"
    },
    {
     "data": {
      "text/plain": [
       "Text(0.5, 1.0, '한국전력')"
      ]
     },
     "execution_count": 14,
     "metadata": {},
     "output_type": "execute_result"
    },
    {
     "data": {
      "text/plain": [
       "Text(0, 0.5, '순이익')"
      ]
     },
     "execution_count": 14,
     "metadata": {},
     "output_type": "execute_result"
    },
    {
     "data": {
      "text/plain": [
       "Text(0.5, 0, '분기')"
      ]
     },
     "execution_count": 14,
     "metadata": {},
     "output_type": "execute_result"
    },
    {
     "data": {
      "text/plain": [
       "<BarContainer object of 19 artists>"
      ]
     },
     "execution_count": 14,
     "metadata": {},
     "output_type": "execute_result"
    },
    {
     "data": {
      "text/plain": [
       "Text(0.5, 1.0, '현대 모비스')"
      ]
     },
     "execution_count": 14,
     "metadata": {},
     "output_type": "execute_result"
    },
    {
     "data": {
      "text/plain": [
       "Text(0, 0.5, '순이익')"
      ]
     },
     "execution_count": 14,
     "metadata": {},
     "output_type": "execute_result"
    },
    {
     "data": {
      "text/plain": [
       "Text(0.5, 0, '분기')"
      ]
     },
     "execution_count": 14,
     "metadata": {},
     "output_type": "execute_result"
    },
    {
     "data": {
      "text/plain": [
       "<BarContainer object of 19 artists>"
      ]
     },
     "execution_count": 14,
     "metadata": {},
     "output_type": "execute_result"
    },
    {
     "data": {
      "text/plain": [
       "Text(0.5, 1.0, '현대차')"
      ]
     },
     "execution_count": 14,
     "metadata": {},
     "output_type": "execute_result"
    },
    {
     "data": {
      "text/plain": [
       "Text(0, 0.5, '순이익')"
      ]
     },
     "execution_count": 14,
     "metadata": {},
     "output_type": "execute_result"
    },
    {
     "data": {
      "text/plain": [
       "Text(0.5, 0, '분기')"
      ]
     },
     "execution_count": 14,
     "metadata": {},
     "output_type": "execute_result"
    },
    {
     "data": {
      "image/png": "[encoded data removed]",
      "text/plain": [
       "<Figure size 2880x1152 with 12 Axes>"
      ]
     },
     "metadata": {
      "needs_background": "light"
     },
     "output_type": "display_data"
    }
   ],
   "source": [
    "do = plt.figure(figsize=(40, 16)) # 차트 생성 및 사이즈 설정\n",
    "xtick = ['21_1','20_4','20_3','20_2','20_1','19_4','19_3','19_2','19_1','18_4','18_3','18_2','18_1','17_4','17_3','17_2','17_1','16_4','16_3']\n",
    "for i in range(len(df1.columns)):\n",
    "    do1=do.add_subplot(3,4,i+1) # subplot 생성\n",
    "    do1.bar(xtick,df1[df1.columns[i]], color='#'+str(i)*3)\n",
    "    do1.set_title(df1.columns[i], fontsize=15) # 타이틀 설정\n",
    "    do1.set_ylabel('순이익', fontsize=10) # x축 설정\n",
    "    do1.set_xlabel('분기',fontsize=10) # y축 설정\n",
    "    do1.invert_xaxis()\n",
    "    if df1.columns[i]=='NAVER':\n",
    "        plt.ylim(0,6000)\n",
    "plt.show()"
   ]
  },
  {
   "cell_type": "code",
   "execution_count": 17,
   "id": "a961953f",
   "metadata": {},
   "outputs": [],
   "source": [
    "do.savefig('./당기순익_시각화.png')"
   ]
  },
  {
   "cell_type": "code",
   "execution_count": null,
   "id": "ca0331b3",
   "metadata": {},
   "outputs": [],
   "source": []
  }
 ],
 "metadata": {
  "kernelspec": {
   "display_name": "Python 3",
   "language": "python",
   "name": "python3"
  },
  "language_info": {
   "codemirror_mode": {
    "name": "ipython",
    "version": 3
   },
   "file_extension": ".py",
   "mimetype": "text/x-python",
   "name": "python",
   "nbconvert_exporter": "python",
   "pygments_lexer": "ipython3",
   "version": "3.8.8"
  }
 },
 "nbformat": 4,
 "nbformat_minor": 5
}
